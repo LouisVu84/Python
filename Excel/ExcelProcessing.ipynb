{
    "metadata": {
        "kernelspec": {
            "name": "python3",
            "display_name": "Python 3",
            "language": "python"
        },
        "language_info": {
            "name": "python",
            "version": "3.9.0",
            "mimetype": "text/x-python",
            "codemirror_mode": {
                "name": "ipython",
                "version": 3
            },
            "pygments_lexer": "ipython3",
            "nbconvert_exporter": "python",
            "file_extension": ".py"
        }
    },
    "nbformat_minor": 2,
    "nbformat": 4,
    "cells": [
        {
            "cell_type": "markdown",
            "source": [
                "Init"
            ],
            "metadata": {
                "azdata_cell_guid": "199610a1-4164-4bcf-8b6f-a6b729ed3349"
            }
        },
        {
            "cell_type": "code",
            "source": [
                "import pandas as pd\r\n",
                "import os, shutil\r\n",
                "import json, numbers, re\r\n",
                "from datetime import datetime\r\n",
                "\r\n",
                "config = 'config.json'\r\n",
                "with open(config, encoding=\"utf8\") as json_file: # encoding for valid character\r\n",
                "    data = json.load(json_file)\r\n",
                "\r\n",
                "input_folder = data['root_folder'] + '\\Input'\r\n",
                "output_folder = data['root_folder'] + '\\Output'\r\n",
                "archive_folder = data['root_folder'] + '\\Archive'\r\n",
                "\r\n",
                "# get file list\r\n",
                "file_list = [x for x in os.listdir(input_folder) if x.endswith(data['extension'])]\r\n",
                "filter_dict = data[\"filter_chars\"]"
            ],
            "metadata": {
                "azdata_cell_guid": "67f05153-3466-44d9-bbc7-f5d2a12a97b8"
            },
            "outputs": [],
            "execution_count": 32
        },
        {
            "cell_type": "markdown",
            "source": [
                "Clean invalid chars"
            ],
            "metadata": {
                "azdata_cell_guid": "b1abc95c-0d39-445a-891f-1dee93017872"
            }
        },
        {
            "cell_type": "code",
            "source": [
                "for file in file_list:\r\n",
                "    input_file = os.path.join(input_folder, file)\r\n",
                "    output_file = os.path.join(output_folder, 'output_' + file)\r\n",
                "    archive_file = os.path.join(archive_folder, file)\r\n",
                "    print('processing ' + file)\r\n",
                "    print(datetime.now())    \r\n",
                "    \r\n",
                "    df = pd.read_excel(input_file)\r\n",
                "\r\n",
                "    r, c = df.shape\r\n",
                "    i = 0\r\n",
                "    j = 0\r\n",
                "\r\n",
                "    while i < r:\r\n",
                "        j = 0\r\n",
                "        while j < c:\r\n",
                "            cell_value = df.iat[i,j]\r\n",
                "            if not (isinstance(cell_value, numbers.Real)):\r\n",
                "                if (pd.isna(cell_value)):\r\n",
                "                    text_value = ''\r\n",
                "                else:\r\n",
                "                    text_value = str(cell_value)\r\n",
                "                text_len = len(text_value)\r\n",
                "                k = 0        \r\n",
                "                result = ''\r\n",
                "                while k < text_len :\r\n",
                "                    if filter_dict.find(text_value[k]) > 0 :\r\n",
                "                        result += text_value[k]\r\n",
                "                    k += 1               \r\n",
                "                df.iat[i,j] = result\r\n",
                "            else:\r\n",
                "                df.iat[i,j] = cell_value\r\n",
                "            j += 1        \r\n",
                "        i += 1\r\n",
                "\r\n",
                "    print(df.shape)\r\n",
                "    df.to_excel(output_file, index = False)\r\n",
                "    shutil.move(input_file, archive_file)\r\n",
                "    print(datetime.now())\r\n",
                "    "
            ],
            "metadata": {
                "azdata_cell_guid": "f01e4888-0c60-4fc1-9294-9c8484b31f3a"
            },
            "outputs": [
                {
                    "name": "stdout",
                    "text": "processing E:\\Repositories\\Github\\Python\\Excel\\Tmp\\Input\\瑞恒-来赞达_MAWB688-20090102-175件.xlsx\n2021-04-12 11:05:43.528690\n",
                    "output_type": "stream"
                },
                {
                    "traceback": [
                        "\u001b[1;31m---------------------------------------------------------------------------\u001b[0m",
                        "\u001b[1;31mNameError\u001b[0m                                 Traceback (most recent call last)",
                        "\u001b[1;32m<ipython-input-31-15a05016dbe2>\u001b[0m in \u001b[0;36m<module>\u001b[1;34m\u001b[0m\n\u001b[0;32m     24\u001b[0m                 \u001b[0mresult\u001b[0m \u001b[1;33m=\u001b[0m \u001b[1;34m''\u001b[0m\u001b[1;33m\u001b[0m\u001b[1;33m\u001b[0m\u001b[0m\n\u001b[0;32m     25\u001b[0m                 \u001b[1;32mwhile\u001b[0m \u001b[0mk\u001b[0m \u001b[1;33m<\u001b[0m \u001b[0mtext_len\u001b[0m \u001b[1;33m:\u001b[0m\u001b[1;33m\u001b[0m\u001b[1;33m\u001b[0m\u001b[0m\n\u001b[1;32m---> 26\u001b[1;33m                     \u001b[1;32mif\u001b[0m \u001b[0mfilter_location\u001b[0m\u001b[1;33m.\u001b[0m\u001b[0mfind\u001b[0m\u001b[1;33m(\u001b[0m\u001b[0mtext_value\u001b[0m\u001b[1;33m[\u001b[0m\u001b[0mk\u001b[0m\u001b[1;33m]\u001b[0m\u001b[1;33m)\u001b[0m \u001b[1;33m>\u001b[0m \u001b[1;36m0\u001b[0m \u001b[1;33m:\u001b[0m\u001b[1;33m\u001b[0m\u001b[1;33m\u001b[0m\u001b[0m\n\u001b[0m\u001b[0;32m     27\u001b[0m                         \u001b[0mresult\u001b[0m \u001b[1;33m+=\u001b[0m \u001b[0mtext_value\u001b[0m\u001b[1;33m[\u001b[0m\u001b[0mk\u001b[0m\u001b[1;33m]\u001b[0m\u001b[1;33m\u001b[0m\u001b[1;33m\u001b[0m\u001b[0m\n\u001b[0;32m     28\u001b[0m                     \u001b[0mk\u001b[0m \u001b[1;33m+=\u001b[0m \u001b[1;36m1\u001b[0m\u001b[1;33m\u001b[0m\u001b[1;33m\u001b[0m\u001b[0m\n",
                        "\u001b[1;31mNameError\u001b[0m: name 'filter_location' is not defined"
                    ],
                    "ename": "NameError",
                    "evalue": "name 'filter_location' is not defined",
                    "output_type": "error"
                }
            ],
            "execution_count": 31
        }
    ]
}
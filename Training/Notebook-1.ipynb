{
    "metadata": {
        "kernelspec": {
            "name": "python3",
            "display_name": "Python 3",
            "language": "python"
        },
        "language_info": {
            "name": "python",
            "version": "3.8.3",
            "mimetype": "text/x-python",
            "codemirror_mode": {
                "name": "ipython",
                "version": 3
            },
            "pygments_lexer": "ipython3",
            "nbconvert_exporter": "python",
            "file_extension": ".py"
        }
    },
    "nbformat_minor": 2,
    "nbformat": 4,
    "cells": [
        {
            "cell_type": "code",
            "source": [
                "import pandas as pd\r\n",
                "import pyodbc\r\n",
                "import time\r\n",
                "\r\n",
                "conn = pyodbc.connect(\"Driver={SQL Server};Server=LAMVT1FINTECH\\SQL2019;Database=StackOverflow2013;Trusted_Connection=yes;\")\r\n",
                "query = f\"\"\"\r\n",
                "    SELECT Id AS UserId, DisplayName, Location FROM dbo.Users WHERE Location = '{'Helsinki, Finland'}'\r\n",
                "\"\"\"\r\n",
                "df_user = pd.read_sql(query, conn)\r\n",
                "\r\n",
                "query = f\"\"\"\r\n",
                "    SELECT UserId, Id, Score, Text, CreationDate FROM dbo.Comments\r\n",
                "    WHERE CreationDate BETWEEN '{'2013-08-01'}' AND '{'2013-08-30'}'\r\n",
                "\"\"\"\r\n",
                "start = time.time()\r\n",
                "df_comment = pd.read_sql_query(query, conn)\r\n",
                "df_user.set_index('UserId')\r\n",
                "df_comment.set_index('UserId')\r\n",
                "df_result = pd.merge(df_user, df_comment, on='UserId').sort_values(by='Score', ascending=False)\r\n",
                "end = time.time()\r\n",
                "print(end - start)\r\n",
                ""
            ],
            "metadata": {
                "azdata_cell_guid": "5f7a1382-de6e-4906-9970-eb5e3ca5c147",
                "tags": []
            },
            "outputs": [
                {
                    "name": "stdout",
                    "text": "130.8617765903473\n",
                    "output_type": "stream"
                }
            ],
            "execution_count": 2
        },
        {
            "cell_type": "code",
            "source": [
                "#print(df_result[df_result['Id']==27140701])\r\n",
                "print(df_result['UserId'])\r\n",
                ""
            ],
            "metadata": {
                "azdata_cell_guid": "b0e33c04-0284-4bfa-b736-f9da4977717d"
            },
            "outputs": [
                {
                    "name": "stdout",
                    "text": "130    1478655\n122     351716\n62       56285\n59       56285\n160     365237\n        ...   \n339     995876\n341     995876\n342     995876\n343     995876\n885    2095090\nName: UserId, Length: 886, dtype: int64\n",
                    "output_type": "stream"
                }
            ],
            "execution_count": 4
        },
        {
            "cell_type": "code",
            "source": [
                "df_result.to_csv(\"D:\\\\Repo\\\\Personal\\\\Github\\\\DevOps\\\\Python\\\\rs.csv\"\r\n",
                "                 , columns=[\"DisplayName\", \"UserId\", \"Id\", \"Score\", \"Text\"]\r\n",
                "                 , index=False\r\n",
                "                 , encoding=\"utf-8\")"
            ],
            "metadata": {
                "azdata_cell_guid": "58ba6811-bc65-4552-bcd0-e4cb190ea5b7"
            },
            "outputs": [],
            "execution_count": 10
        },
        {
            "cell_type": "code",
            "source": [
                "from sqlalchemy import create_engine\r\n",
                "engine = create_engine(\r\n",
                "    'postgresql://postgres:Hh010898@@@localhost:5432/stackoverflow')\r\n",
                "\r\n",
                "with engine.connect() as psql_conn:\r\n",
                "    df1 = pd.read_sql_query(\r\n",
                "        'select * from users limit 100', psql_conn)\r\n",
                "\r\n",
                "print(df1)\r\n",
                ""
            ],
            "metadata": {
                "azdata_cell_guid": "238e4baf-4b6f-48ef-8afe-557d1d1b7a59"
            },
            "outputs": [
                {
                    "output_type": "stream",
                    "name": "stdout",
                    "text": "Empty DataFrame\nColumns: [index, id, aboutme, age, creationdate, displayname, downvotes, emailhash, lastaccessdate, location, reputation, upvotes, views, websiteurl, accountid]\nIndex: []\n"
                }
            ],
            "execution_count": 55
        },
        {
            "cell_type": "code",
            "source": [
                "from io import StringIO \r\n",
                "import csv\r\n",
                "\r\n",
                "s_buf = StringIO()\r\n",
                "df_result.to_csv(s_buf\r\n",
                "                , header=True\r\n",
                "                , columns=[\"DisplayName\", \"UserId\", \"Id\", \"Score\", \"Text\"]\r\n",
                "                 , index=False\r\n",
                "                 , encoding=\"utf-8\")\r\n",
                "s_buf.seek(0)\r\n",
                "\r\n",
                "copy_query = \"COPY user_test FROM STDOUT csv DELIMITER ',' NULL ''  ESCAPE '\\\\' HEADER \"  # Replace your table name in place of mem_info\r\n",
                "psql_conn = engine.raw_connection()\r\n",
                "cur = psql_conn.cursor()\r\n",
                "cur.copy_expert(copy_query, s_buf)\r\n",
                "psql_conn.commit()\r\n",
                ""
            ],
            "metadata": {
                "azdata_cell_guid": "1bdfdfc2-25ad-4e13-bc9c-1bb47a4fd21c",
                "tags": []
            },
            "outputs": [],
            "execution_count": 60
        },
        {
            "cell_type": "code",
            "source": [
                "def psql_insert_copy(table, conn, keys, data_iter):\r\n",
                "    # gets a DBAPI connection that can provide a cursor\r\n",
                "    dbapi_conn = conn.connection\r\n",
                "    with dbapi_conn.cursor() as cur:\r\n",
                "        s_buf = StringIO()\r\n",
                "        writer = csv.writer(s_buf)\r\n",
                "        writer.writerows(data_iter)\r\n",
                "        s_buf.seek(0)\r\n",
                "        print(keys)\r\n",
                "        \r\n",
                "        columns = ', '.join('\"{}\"'.format(k) for k in keys)\r\n",
                "        if table.schema:\r\n",
                "            table_name = '{}.{}'.format(table.schema, table.name)\r\n",
                "        else:\r\n",
                "            table_name = table.name\r\n",
                "\r\n",
                "        sql = 'COPY {} ({}) FROM STDIN WITH CSV'.format(\r\n",
                "            table_name, columns)\r\n",
                "        print(sql)\r\n",
                "        cur.copy_expert(sql=sql, file=s_buf)\r\n",
                "\r\n",
                "\r\n",
                "df_result.rename(columns= {'Id':'CommentId'}, inplace=True)\r\n",
                "df_result.to_sql('user03', engine, method=psql_insert_copy, if_exists = 'replace', index=False)"
            ],
            "metadata": {
                "azdata_cell_guid": "d1d3a223-b0e9-4986-a90e-deb0b6fae9e3",
                "tags": []
            },
            "outputs": [
                {
                    "output_type": "stream",
                    "name": "stdout",
                    "text": "['UserId', 'DisplayName', 'Location', 'CommentId', 'Score', 'Text', 'CreationDate']\nCOPY user03 (\"UserId\", \"DisplayName\", \"Location\", \"CommentId\", \"Score\", \"Text\", \"CreationDate\") FROM STDIN WITH CSV\n"
                }
            ],
            "execution_count": 99
        },
        {
            "cell_type": "code",
            "source": [
                "import perfplot\r\n",
                "\r\n",
                "def make_data(n):\r\n",
                "    df1 = df_result['Score']\r\n",
                "    df2 = df_result['UserId']\r\n",
                "    df3 = df_result['Location']\r\n",
                "\r\n",
                "    return df1, df2, df3\r\n",
                "\r\n",
                "perfplot.show(\r\n",
                "    setup=lambda n: make_data(n),\r\n",
                "    kernels=[\r\n",
                "        lambda dfs: dfs[0].loc[100],\r\n",
                "        lambda dfs: dfs[1].loc[100],        \r\n",
                "        lambda dfs: dfs[2].loc[100],\r\n",
                "    ],\r\n",
                "    labels=['Score', 'UserId', 'Location'],\r\n",
                "    n_range=[2 ** k for k in range(8, 23)],\r\n",
                "    xlabel='N',\r\n",
                "    logx=True,\r\n",
                "    logy=True,\r\n",
                "    equality_check=False)"
            ],
            "metadata": {
                "azdata_cell_guid": "6b77a3e7-6e53-48a1-9fef-a61efb4eed4b"
            },
            "outputs": [
                {
                    "data": {
                        "text/plain": "<rich.jupyter.JupyterRenderable at 0x107fcb50>",
                        "text/html": "<pre style=\"white-space:pre;overflow-x:auto;line-height:normal;font-family:Menlo,'DejaVu Sans Mono',consolas,'Courier New',monospace\">Overall <span style=\"color: #729c1f\">━━━━━━━━━━━━━━━━━━━━━━━━━━━━━━━━━━━━━━━━</span> <span style=\"color: #800080\">100%</span> <span style=\"color: #008080\">0:00:00</span>\nKernels <span style=\"color: #729c1f\">━━━━━━━━━━━━━━━━━━━━━━━━━━━━━━━━━━━━━━━━</span> <span style=\"color: #800080\">100%</span> <span style=\"color: #008080\">0:00:00</span>\n</pre>\n"
                    },
                    "metadata": {},
                    "output_type": "display_data"
                },
                {
                    "data": {
                        "text/plain": "<Figure size 432x288 with 1 Axes>",
                        "image/png": "[encoded data removed]"
                    },
                    "metadata": {
                        "needs_background": "dark"
                    },
                    "output_type": "display_data"
                }
            ],
            "execution_count": 7
        }
    ]
}